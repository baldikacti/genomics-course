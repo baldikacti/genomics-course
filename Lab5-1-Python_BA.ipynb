{
 "cells": [
  {
   "cell_type": "markdown",
   "metadata": {},
   "source": [
    "# Lab5-1_BA\n",
    "\n",
    "## Berent Aldikacti\n",
    "\n",
    "## 09/21/20"
   ]
  },
  {
   "cell_type": "code",
   "execution_count": 1,
   "metadata": {},
   "outputs": [],
   "source": [
    "import pandas as pd\n",
    "import matplotlib.pyplot as plt\n",
    "import numpy as np"
   ]
  },
  {
   "cell_type": "markdown",
   "metadata": {},
   "source": [
    "## Exercise"
   ]
  },
  {
   "cell_type": "code",
   "execution_count": 2,
   "metadata": {},
   "outputs": [],
   "source": [
    "df = pd.read_csv(\"data/bouldercreek_09_2013.txt\", skiprows=25, sep='\\t')"
   ]
  },
  {
   "cell_type": "code",
   "execution_count": 3,
   "metadata": {},
   "outputs": [
    {
     "data": {
      "text/html": [
       "<div>\n",
       "<style scoped>\n",
       "    .dataframe tbody tr th:only-of-type {\n",
       "        vertical-align: middle;\n",
       "    }\n",
       "\n",
       "    .dataframe tbody tr th {\n",
       "        vertical-align: top;\n",
       "    }\n",
       "\n",
       "    .dataframe thead th {\n",
       "        text-align: right;\n",
       "    }\n",
       "</style>\n",
       "<table border=\"1\" class=\"dataframe\">\n",
       "  <thead>\n",
       "    <tr style=\"text-align: right;\">\n",
       "      <th></th>\n",
       "      <th>agency_cd</th>\n",
       "      <th>site_no</th>\n",
       "      <th>datetime</th>\n",
       "      <th>tz_cd</th>\n",
       "      <th>04_00060</th>\n",
       "      <th>04_00060_cd</th>\n",
       "    </tr>\n",
       "  </thead>\n",
       "  <tbody>\n",
       "    <tr>\n",
       "      <th>0</th>\n",
       "      <td>5s</td>\n",
       "      <td>15s</td>\n",
       "      <td>20d</td>\n",
       "      <td>6s</td>\n",
       "      <td>14n</td>\n",
       "      <td>10s</td>\n",
       "    </tr>\n",
       "    <tr>\n",
       "      <th>1</th>\n",
       "      <td>USGS</td>\n",
       "      <td>06730200</td>\n",
       "      <td>2013-09-01 00:00</td>\n",
       "      <td>MDT</td>\n",
       "      <td>57</td>\n",
       "      <td>A</td>\n",
       "    </tr>\n",
       "    <tr>\n",
       "      <th>2</th>\n",
       "      <td>USGS</td>\n",
       "      <td>06730200</td>\n",
       "      <td>2013-09-01 00:15</td>\n",
       "      <td>MDT</td>\n",
       "      <td>57</td>\n",
       "      <td>A</td>\n",
       "    </tr>\n",
       "    <tr>\n",
       "      <th>3</th>\n",
       "      <td>USGS</td>\n",
       "      <td>06730200</td>\n",
       "      <td>2013-09-01 00:30</td>\n",
       "      <td>MDT</td>\n",
       "      <td>57</td>\n",
       "      <td>A</td>\n",
       "    </tr>\n",
       "    <tr>\n",
       "      <th>4</th>\n",
       "      <td>USGS</td>\n",
       "      <td>06730200</td>\n",
       "      <td>2013-09-01 00:45</td>\n",
       "      <td>MDT</td>\n",
       "      <td>57</td>\n",
       "      <td>A</td>\n",
       "    </tr>\n",
       "  </tbody>\n",
       "</table>\n",
       "</div>"
      ],
      "text/plain": [
       "  agency_cd   site_no          datetime tz_cd 04_00060 04_00060_cd\n",
       "0        5s       15s               20d    6s      14n         10s\n",
       "1      USGS  06730200  2013-09-01 00:00   MDT       57           A\n",
       "2      USGS  06730200  2013-09-01 00:15   MDT       57           A\n",
       "3      USGS  06730200  2013-09-01 00:30   MDT       57           A\n",
       "4      USGS  06730200  2013-09-01 00:45   MDT       57           A"
      ]
     },
     "execution_count": 3,
     "metadata": {},
     "output_type": "execute_result"
    }
   ],
   "source": [
    "df.head()"
   ]
  },
  {
   "cell_type": "code",
   "execution_count": 4,
   "metadata": {},
   "outputs": [
    {
     "data": {
      "text/plain": [
       "(2876, 6)"
      ]
     },
     "execution_count": 4,
     "metadata": {},
     "output_type": "execute_result"
    }
   ],
   "source": [
    "df.shape"
   ]
  },
  {
   "cell_type": "code",
   "execution_count": 5,
   "metadata": {},
   "outputs": [
    {
     "data": {
      "text/html": [
       "<div>\n",
       "<style scoped>\n",
       "    .dataframe tbody tr th:only-of-type {\n",
       "        vertical-align: middle;\n",
       "    }\n",
       "\n",
       "    .dataframe tbody tr th {\n",
       "        vertical-align: top;\n",
       "    }\n",
       "\n",
       "    .dataframe thead th {\n",
       "        text-align: right;\n",
       "    }\n",
       "</style>\n",
       "<table border=\"1\" class=\"dataframe\">\n",
       "  <thead>\n",
       "    <tr style=\"text-align: right;\">\n",
       "      <th></th>\n",
       "      <th>datetime</th>\n",
       "      <th>tz_cd</th>\n",
       "      <th>04_00060</th>\n",
       "    </tr>\n",
       "  </thead>\n",
       "  <tbody>\n",
       "    <tr>\n",
       "      <th>1</th>\n",
       "      <td>2013-09-01 00:00</td>\n",
       "      <td>MDT</td>\n",
       "      <td>57</td>\n",
       "    </tr>\n",
       "    <tr>\n",
       "      <th>2</th>\n",
       "      <td>2013-09-01 00:15</td>\n",
       "      <td>MDT</td>\n",
       "      <td>57</td>\n",
       "    </tr>\n",
       "    <tr>\n",
       "      <th>3</th>\n",
       "      <td>2013-09-01 00:30</td>\n",
       "      <td>MDT</td>\n",
       "      <td>57</td>\n",
       "    </tr>\n",
       "    <tr>\n",
       "      <th>4</th>\n",
       "      <td>2013-09-01 00:45</td>\n",
       "      <td>MDT</td>\n",
       "      <td>57</td>\n",
       "    </tr>\n",
       "    <tr>\n",
       "      <th>5</th>\n",
       "      <td>2013-09-01 01:00</td>\n",
       "      <td>MDT</td>\n",
       "      <td>57</td>\n",
       "    </tr>\n",
       "    <tr>\n",
       "      <th>...</th>\n",
       "      <td>...</td>\n",
       "      <td>...</td>\n",
       "      <td>...</td>\n",
       "    </tr>\n",
       "    <tr>\n",
       "      <th>2871</th>\n",
       "      <td>2013-09-30 22:45</td>\n",
       "      <td>MDT</td>\n",
       "      <td>334</td>\n",
       "    </tr>\n",
       "    <tr>\n",
       "      <th>2872</th>\n",
       "      <td>2013-09-30 23:00</td>\n",
       "      <td>MDT</td>\n",
       "      <td>334</td>\n",
       "    </tr>\n",
       "    <tr>\n",
       "      <th>2873</th>\n",
       "      <td>2013-09-30 23:15</td>\n",
       "      <td>MDT</td>\n",
       "      <td>334</td>\n",
       "    </tr>\n",
       "    <tr>\n",
       "      <th>2874</th>\n",
       "      <td>2013-09-30 23:30</td>\n",
       "      <td>MDT</td>\n",
       "      <td>334</td>\n",
       "    </tr>\n",
       "    <tr>\n",
       "      <th>2875</th>\n",
       "      <td>2013-09-30 23:45</td>\n",
       "      <td>MDT</td>\n",
       "      <td>339</td>\n",
       "    </tr>\n",
       "  </tbody>\n",
       "</table>\n",
       "<p>2875 rows × 3 columns</p>\n",
       "</div>"
      ],
      "text/plain": [
       "              datetime tz_cd 04_00060\n",
       "1     2013-09-01 00:00   MDT       57\n",
       "2     2013-09-01 00:15   MDT       57\n",
       "3     2013-09-01 00:30   MDT       57\n",
       "4     2013-09-01 00:45   MDT       57\n",
       "5     2013-09-01 01:00   MDT       57\n",
       "...                ...   ...      ...\n",
       "2871  2013-09-30 22:45   MDT      334\n",
       "2872  2013-09-30 23:00   MDT      334\n",
       "2873  2013-09-30 23:15   MDT      334\n",
       "2874  2013-09-30 23:30   MDT      334\n",
       "2875  2013-09-30 23:45   MDT      339\n",
       "\n",
       "[2875 rows x 3 columns]"
      ]
     },
     "execution_count": 5,
     "metadata": {},
     "output_type": "execute_result"
    }
   ],
   "source": [
    "df2 = df.iloc[1:2876,2:5].copy()\n",
    "df2"
   ]
  },
  {
   "cell_type": "markdown",
   "metadata": {},
   "source": [
    "### Challenge - Drawing from distributions\n",
    "\n",
    "Have a look at numpy.random documentation. Choose a distribution you have no familiarity with, and try to sample from and visualize it."
   ]
  },
  {
   "cell_type": "code",
   "execution_count": 6,
   "metadata": {},
   "outputs": [
    {
     "data": {
      "text/plain": [
       "array([[0.69139515, 0.33628165, 0.50896079, 0.48978917, 0.71851791,\n",
       "        0.62106609, 0.54926603, 0.54383846, 0.68054066, 0.29033301,\n",
       "        0.4905586 , 0.61247977, 0.67914497, 0.5660154 , 0.39073592,\n",
       "        0.63397258, 0.60255503, 0.7469851 , 0.51927079, 0.51035139],\n",
       "       [0.16706423, 0.51045099, 0.20512863, 0.35144539, 0.13015156,\n",
       "        0.28168942, 0.14335136, 0.28029949, 0.22528868, 0.47577264,\n",
       "        0.22189668, 0.19227872, 0.12888257, 0.28852352, 0.49553699,\n",
       "        0.22838989, 0.24041696, 0.07902811, 0.30911865, 0.23969732],\n",
       "       [0.14154062, 0.15326735, 0.28591058, 0.15876544, 0.15133053,\n",
       "        0.09724449, 0.3073826 , 0.17586205, 0.09417066, 0.23389435,\n",
       "        0.28754473, 0.19524151, 0.19197246, 0.14546108, 0.1137271 ,\n",
       "        0.13763753, 0.15702801, 0.17398678, 0.17161055, 0.24995129]])"
      ]
     },
     "execution_count": 6,
     "metadata": {},
     "output_type": "execute_result"
    }
   ],
   "source": [
    "from numpy.random import default_rng\n",
    "rng = default_rng()\n",
    "\n",
    "dh = np.random.default_rng().dirichlet((10, 5, 3), 20).transpose()\n",
    "dh"
   ]
  },
  {
   "cell_type": "code",
   "execution_count": 7,
   "metadata": {},
   "outputs": [
    {
     "data": {
      "text/plain": [
       "Text(0.5, 1.0, 'Lengths of Strings')"
      ]
     },
     "execution_count": 7,
     "metadata": {},
     "output_type": "execute_result"
    },
    {
     "data": {
      "image/png": "[encoded data removed]",
      "text/plain": [
       "<Figure size 432x288 with 1 Axes>"
      ]
     },
     "metadata": {
      "needs_background": "light"
     },
     "output_type": "display_data"
    }
   ],
   "source": [
    "plt.barh(range(20), dh[0])\n",
    "plt.barh(range(20), dh[1], left=dh[0], color='g')\n",
    "plt.barh(range(20), dh[2], left=dh[0] + dh[1], color='r')\n",
    "plt.title(\"Lengths of Strings\")"
   ]
  },
  {
   "cell_type": "markdown",
   "metadata": {},
   "source": [
    "### Challenge - Pandas and Matplotlib\n",
    "\n",
    "Load the streamgage data set with Pandas, subset the week of the 2013 Front Range flood (September 11 through 15) and create a hydrograph (line plot) of the discharge data using Pandas, linking it to an empty maptlotlib ax object. Create a second axis that displays the whole dataset. Adapt the title and axes’ labels using matplotlib."
   ]
  },
  {
   "cell_type": "code",
   "execution_count": 8,
   "metadata": {},
   "outputs": [
    {
     "data": {
      "text/plain": [
       "Text(0.5, 1.0, ' Front Range flood event 2013')"
      ]
     },
     "execution_count": 8,
     "metadata": {},
     "output_type": "execute_result"
    },
    {
     "data": {
      "image/png": "[encoded data removed]",
      "text/plain": [
       "<Figure size 432x288 with 1 Axes>"
      ]
     },
     "metadata": {
      "needs_background": "light"
     },
     "output_type": "display_data"
    },
    {
     "data": {
      "image/png": "[encoded data removed]",
      "text/plain": [
       "<Figure size 432x288 with 2 Axes>"
      ]
     },
     "metadata": {
      "needs_background": "light"
     },
     "output_type": "display_data"
    },
    {
     "data": {
      "image/png": "[encoded data removed]",
      "text/plain": [
       "<Figure size 432x288 with 2 Axes>"
      ]
     },
     "metadata": {
      "needs_background": "light"
     },
     "output_type": "display_data"
    }
   ],
   "source": [
    "discharge = pd.read_csv(\"data/bouldercreek_09_2013.txt\",\n",
    "                        skiprows=27, delimiter=\"\\t\",\n",
    "                        names=[\"agency\", \"site_id\", \"datetime\",\n",
    "                               \"timezone\", \"discharge\", \"discharge_cd\"])\n",
    "discharge[\"datetime\"] = pd.to_datetime(discharge[\"datetime\"])\n",
    "front_range = discharge[(discharge[\"datetime\"] >= \"2013-09-09\") &\n",
    "                        (discharge[\"datetime\"] < \"2013-09-15\")]\n",
    "\n",
    "fig, ax = plt.subplots()\n",
    "front_range.plot(x =\"datetime\", y=\"discharge\", ax=ax)\n",
    "ax.set_xlabel(\"\") # no label\n",
    "ax.set_ylabel(\"Discharge, cubic feet per second\")\n",
    "ax.set_title(\" Front Range flood event 2013\")\n",
    "\n",
    "\n",
    "discharge = pd.read_csv(\"data/bouldercreek_09_2013.txt\",\n",
    "                      skiprows=27, delimiter=\"\\t\",\n",
    "                      names=[\"agency\", \"site_id\", \"datetime\",\n",
    "                             \"timezone\", \"flow_rate\", \"height\"])\n",
    "fig, ax = plt.subplots()\n",
    "flood = discharge[(discharge[\"datetime\"] >= \"2013-09-11\") &\n",
    "                  (discharge[\"datetime\"] < \"2013-09-15\")]\n",
    "\n",
    "ax2 = fig.add_axes([0.65, 0.575, 0.25, 0.3])\n",
    "flood.plot(x =\"datetime\", y=\"flow_rate\", ax=ax)\n",
    "discharge.plot(x =\"datetime\", y=\"flow_rate\", ax=ax2)\n",
    "ax2.legend().set_visible(False)\n",
    "ax.set_xlabel(\"\") # no label\n",
    "ax.set_ylabel(\"Discharge, cubic feet per second\")\n",
    "ax.legend().set_visible(False)\n",
    "ax.set_title(\" Front Range flood event 2013\")\n",
    "\n",
    "\n",
    "discharge = pd.read_csv(\"data/bouldercreek_09_2013.txt\",\n",
    "                      skiprows=27, delimiter=\"\\t\",\n",
    "                      names=[\"agency\", \"site_id\", \"datetime\",\n",
    "                             \"timezone\", \"flow_rate\", \"height\"])\n",
    "fig, ax = plt.subplots()\n",
    "flood = discharge[(discharge[\"datetime\"] >= \"2013-09-11\") &\n",
    "                  (discharge[\"datetime\"] < \"2013-09-15\")]\n",
    "\n",
    "ax2 = fig.add_axes([0.65, 0.575, 0.25, 0.3])\n",
    "flood.plot(x =\"datetime\", y=\"flow_rate\", ax=ax)\n",
    "discharge.plot(x =\"datetime\", y=\"flow_rate\", ax=ax2)\n",
    "ax2.legend().set_visible(False)\n",
    "\n",
    "ax.set_xlabel(\"\") # no label\n",
    "ax.set_ylabel(\"Discharge, cubic feet per second\")\n",
    "ax.legend().set_visible(False)\n",
    "ax.set_title(\" Front Range flood event 2013\")"
   ]
  },
  {
   "cell_type": "markdown",
   "metadata": {},
   "source": [
    "### Challenge - Saving figures\n",
    "\n",
    "Check the documentation of the savefig method and check how you can comply to journals requiring figures as pdf file with dpi >= 300."
   ]
  },
  {
   "cell_type": "code",
   "execution_count": 11,
   "metadata": {},
   "outputs": [
    {
     "data": {
      "text/plain": [
       "\u001b[0;31mSignature:\u001b[0m \u001b[0mfig\u001b[0m\u001b[0;34m.\u001b[0m\u001b[0msavefig\u001b[0m\u001b[0;34m(\u001b[0m\u001b[0mfname\u001b[0m\u001b[0;34m,\u001b[0m \u001b[0;34m*\u001b[0m\u001b[0;34m,\u001b[0m \u001b[0mtransparent\u001b[0m\u001b[0;34m=\u001b[0m\u001b[0;32mNone\u001b[0m\u001b[0;34m,\u001b[0m \u001b[0;34m**\u001b[0m\u001b[0mkwargs\u001b[0m\u001b[0;34m)\u001b[0m\u001b[0;34m\u001b[0m\u001b[0;34m\u001b[0m\u001b[0m\n",
       "\u001b[0;31mDocstring:\u001b[0m\n",
       "Save the current figure.\n",
       "\n",
       "Call signature::\n",
       "\n",
       "  savefig(fname, dpi=None, facecolor='w', edgecolor='w',\n",
       "          orientation='portrait', papertype=None, format=None,\n",
       "          transparent=False, bbox_inches=None, pad_inches=0.1,\n",
       "          frameon=None, metadata=None)\n",
       "\n",
       "The available output formats depend on the backend being used.\n",
       "\n",
       "Parameters\n",
       "----------\n",
       "fname : str or path-like or file-like\n",
       "    A path, or a Python file-like object, or\n",
       "    possibly some backend-dependent object such as\n",
       "    `matplotlib.backends.backend_pdf.PdfPages`.\n",
       "\n",
       "    If *format* is set, it determines the output format, and the file\n",
       "    is saved as *fname*.  Note that *fname* is used verbatim, and there\n",
       "    is no attempt to make the extension, if any, of *fname* match\n",
       "    *format*, and no extension is appended.\n",
       "\n",
       "    If *format* is not set, then the format is inferred from the\n",
       "    extension of *fname*, if there is one.  If *format* is not\n",
       "    set and *fname* has no extension, then the file is saved with\n",
       "    :rc:`savefig.format` and the appropriate extension is appended to\n",
       "    *fname*.\n",
       "\n",
       "Other Parameters\n",
       "----------------\n",
       "dpi : float or 'figure', default: :rc:`savefig.dpi`\n",
       "    The resolution in dots per inch.  If 'figure', use the figure's\n",
       "    dpi value.\n",
       "\n",
       "quality : int, default: :rc:`savefig.jpeg_quality`\n",
       "    Applicable only if *format* is 'jpg' or 'jpeg', ignored otherwise.\n",
       "\n",
       "    The image quality, on a scale from 1 (worst) to 95 (best).\n",
       "    Values above 95 should be avoided; 100 disables portions of\n",
       "    the JPEG compression algorithm, and results in large files\n",
       "    with hardly any gain in image quality.\n",
       "\n",
       "    This parameter is deprecated.\n",
       "\n",
       "optimize : bool, default: False\n",
       "    Applicable only if *format* is 'jpg' or 'jpeg', ignored otherwise.\n",
       "\n",
       "    Whether the encoder should make an extra pass over the image\n",
       "    in order to select optimal encoder settings.\n",
       "\n",
       "    This parameter is deprecated.\n",
       "\n",
       "progressive : bool, default: False\n",
       "    Applicable only if *format* is 'jpg' or 'jpeg', ignored otherwise.\n",
       "\n",
       "    Whether the image should be stored as a progressive JPEG file.\n",
       "\n",
       "    This parameter is deprecated.\n",
       "\n",
       "facecolor : color or 'auto', default: :rc:`savefig.facecolor`\n",
       "    The facecolor of the figure.  If 'auto', use the current figure\n",
       "    facecolor.\n",
       "\n",
       "edgecolor : color or 'auto', default: :rc:`savefig.edgecolor`\n",
       "    The edgecolor of the figure.  If 'auto', use the current figure\n",
       "    edgecolor.\n",
       "\n",
       "orientation : {'landscape', 'portrait'}\n",
       "    Currently only supported by the postscript backend.\n",
       "\n",
       "papertype : str\n",
       "    One of 'letter', 'legal', 'executive', 'ledger', 'a0' through\n",
       "    'a10', 'b0' through 'b10'. Only supported for postscript\n",
       "    output.\n",
       "\n",
       "format : str\n",
       "    The file format, e.g. 'png', 'pdf', 'svg', ... The behavior when\n",
       "    this is unset is documented under *fname*.\n",
       "\n",
       "transparent : bool\n",
       "    If *True*, the axes patches will all be transparent; the\n",
       "    figure patch will also be transparent unless facecolor\n",
       "    and/or edgecolor are specified via kwargs.\n",
       "    This is useful, for example, for displaying\n",
       "    a plot on top of a colored background on a web page.  The\n",
       "    transparency of these patches will be restored to their\n",
       "    original values upon exit of this function.\n",
       "\n",
       "bbox_inches : str or `.Bbox`, default: :rc:`savefig.bbox`\n",
       "    Bounding box in inches: only the given portion of the figure is\n",
       "    saved.  If 'tight', try to figure out the tight bbox of the figure.\n",
       "\n",
       "pad_inches : float, default: :rc:`savefig.pad_inches`\n",
       "    Amount of padding around the figure when bbox_inches is 'tight'.\n",
       "\n",
       "bbox_extra_artists : list of `~matplotlib.artist.Artist`, optional\n",
       "    A list of extra artists that will be considered when the\n",
       "    tight bbox is calculated.\n",
       "\n",
       "backend : str, optional\n",
       "    Use a non-default backend to render the file, e.g. to render a\n",
       "    png file with the \"cairo\" backend rather than the default \"agg\",\n",
       "    or a pdf file with the \"pgf\" backend rather than the default\n",
       "    \"pdf\".  Note that the default backend is normally sufficient.  See\n",
       "    :ref:`the-builtin-backends` for a list of valid backends for each\n",
       "    file format.  Custom backends can be referenced as \"module://...\".\n",
       "\n",
       "metadata : dict, optional\n",
       "    Key/value pairs to store in the image metadata. The supported keys\n",
       "    and defaults depend on the image format and backend:\n",
       "\n",
       "    - 'png' with Agg backend: See the parameter ``metadata`` of\n",
       "      `~.FigureCanvasAgg.print_png`.\n",
       "    - 'pdf' with pdf backend: See the parameter ``metadata`` of\n",
       "      `~.backend_pdf.PdfPages`.\n",
       "    - 'svg' with svg backend: See the parameter ``metadata`` of\n",
       "      `~.FigureCanvasSVG.print_svg`.\n",
       "    - 'eps' and 'ps' with PS backend: Only 'Creator' is supported.\n",
       "\n",
       "pil_kwargs : dict, optional\n",
       "    Additional keyword arguments that are passed to\n",
       "    `PIL.Image.Image.save` when saving the figure.\n",
       "\u001b[0;31mFile:\u001b[0m      ~/miniconda3/lib/python3.7/site-packages/matplotlib/figure.py\n",
       "\u001b[0;31mType:\u001b[0m      method\n"
      ]
     },
     "metadata": {},
     "output_type": "display_data"
    }
   ],
   "source": [
    "fig.savefig?"
   ]
  },
  {
   "cell_type": "code",
   "execution_count": 10,
   "metadata": {},
   "outputs": [],
   "source": [
    "fig.savefig(\"figure1.pdf\",dpi=300,)"
   ]
  },
  {
   "cell_type": "markdown",
   "metadata": {},
   "source": [
    "### Challenge - Final Plot\n",
    "\n",
    "Display your data using one or more plot types from the example gallery. Which ones to choose will depend on the content of your own data file. If you are using the streamgage file bouldercreek_09_2013.txt, you could make a histogram of the number of days with a given mean discharge, use bar plots to display daily discharge statistics, or explore the different ways matplotlib can handle dates and times for figures."
   ]
  },
  {
   "cell_type": "code",
   "execution_count": 75,
   "metadata": {},
   "outputs": [],
   "source": [
    "discharge = pd.read_csv(\"data/bouldercreek_09_2013.txt\",\n",
    "                        skiprows=27, delimiter=\"\\t\",\n",
    "                        names=[\"agency\", \"site_id\", \"datetime\",\n",
    "                               \"timezone\", \"discharge\", \"discharge_cd\"])"
   ]
  },
  {
   "cell_type": "code",
   "execution_count": 70,
   "metadata": {},
   "outputs": [
    {
     "data": {
      "text/html": [
       "<div>\n",
       "<style scoped>\n",
       "    .dataframe tbody tr th:only-of-type {\n",
       "        vertical-align: middle;\n",
       "    }\n",
       "\n",
       "    .dataframe tbody tr th {\n",
       "        vertical-align: top;\n",
       "    }\n",
       "\n",
       "    .dataframe thead th {\n",
       "        text-align: right;\n",
       "    }\n",
       "</style>\n",
       "<table border=\"1\" class=\"dataframe\">\n",
       "  <thead>\n",
       "    <tr style=\"text-align: right;\">\n",
       "      <th></th>\n",
       "      <th>agency</th>\n",
       "      <th>site_id</th>\n",
       "      <th>datetime</th>\n",
       "      <th>timezone</th>\n",
       "      <th>discharge</th>\n",
       "      <th>discharge_cd</th>\n",
       "    </tr>\n",
       "  </thead>\n",
       "  <tbody>\n",
       "    <tr>\n",
       "      <th>0</th>\n",
       "      <td>USGS</td>\n",
       "      <td>6730200</td>\n",
       "      <td>2013-09-01 00:00:00</td>\n",
       "      <td>MDT</td>\n",
       "      <td>57</td>\n",
       "      <td>A</td>\n",
       "    </tr>\n",
       "    <tr>\n",
       "      <th>1</th>\n",
       "      <td>USGS</td>\n",
       "      <td>6730200</td>\n",
       "      <td>2013-09-01 00:15:00</td>\n",
       "      <td>MDT</td>\n",
       "      <td>57</td>\n",
       "      <td>A</td>\n",
       "    </tr>\n",
       "    <tr>\n",
       "      <th>2</th>\n",
       "      <td>USGS</td>\n",
       "      <td>6730200</td>\n",
       "      <td>2013-09-01 00:30:00</td>\n",
       "      <td>MDT</td>\n",
       "      <td>57</td>\n",
       "      <td>A</td>\n",
       "    </tr>\n",
       "    <tr>\n",
       "      <th>3</th>\n",
       "      <td>USGS</td>\n",
       "      <td>6730200</td>\n",
       "      <td>2013-09-01 00:45:00</td>\n",
       "      <td>MDT</td>\n",
       "      <td>57</td>\n",
       "      <td>A</td>\n",
       "    </tr>\n",
       "    <tr>\n",
       "      <th>4</th>\n",
       "      <td>USGS</td>\n",
       "      <td>6730200</td>\n",
       "      <td>2013-09-01 01:00:00</td>\n",
       "      <td>MDT</td>\n",
       "      <td>57</td>\n",
       "      <td>A</td>\n",
       "    </tr>\n",
       "  </tbody>\n",
       "</table>\n",
       "</div>"
      ],
      "text/plain": [
       "  agency  site_id            datetime timezone  discharge discharge_cd\n",
       "0   USGS  6730200 2013-09-01 00:00:00      MDT         57            A\n",
       "1   USGS  6730200 2013-09-01 00:15:00      MDT         57            A\n",
       "2   USGS  6730200 2013-09-01 00:30:00      MDT         57            A\n",
       "3   USGS  6730200 2013-09-01 00:45:00      MDT         57            A\n",
       "4   USGS  6730200 2013-09-01 01:00:00      MDT         57            A"
      ]
     },
     "execution_count": 70,
     "metadata": {},
     "output_type": "execute_result"
    }
   ],
   "source": [
    "discharge.head()"
   ]
  },
  {
   "cell_type": "code",
   "execution_count": 83,
   "metadata": {},
   "outputs": [],
   "source": [
    "disp = discharge.groupby(['discharge'])['datetime'].count().reset_index(name='datetime')\n",
    "disp\n",
    "disp['discharge'] = disp['discharge'].astype(object)"
   ]
  },
  {
   "cell_type": "code",
   "execution_count": 93,
   "metadata": {},
   "outputs": [
    {
     "data": {
      "image/png": "[encoded data removed]",
      "text/plain": [
       "<Figure size 432x288 with 1 Axes>"
      ]
     },
     "metadata": {
      "needs_background": "light"
     },
     "output_type": "display_data"
    }
   ],
   "source": [
    "fig, ax = plt.subplots()\n",
    "disp.plot(x='discharge',y='datetime' ,kind='bar',stacked=True, ax=ax)\n",
    "ax.set_xlabel(\"Discharge level\") # no label\n",
    "ax.set_ylabel(\"Discharge, cubic feet per second\")\n",
    "ax.set_title(\" Discharge recorded per level\")\n",
    "ax.tick_params(labelsize=8, pad=8)"
   ]
  },
  {
   "cell_type": "code",
   "execution_count": 92,
   "metadata": {},
   "outputs": [],
   "source": [
    "fig.savefig(\"figure2.pdf\",dpi=300,)"
   ]
  }
 ],
 "metadata": {
  "kernelspec": {
   "display_name": "Python 3",
   "language": "python",
   "name": "python3"
  },
  "language_info": {
   "codemirror_mode": {
    "name": "ipython",
    "version": 3
   },
   "file_extension": ".py",
   "mimetype": "text/x-python",
   "name": "python",
   "nbconvert_exporter": "python",
   "pygments_lexer": "ipython3",
   "version": "3.7.7"
  }
 },
 "nbformat": 4,
 "nbformat_minor": 4
}
