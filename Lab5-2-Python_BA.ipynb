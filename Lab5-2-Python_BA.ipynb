{
 "cells": [
  {
   "cell_type": "markdown",
   "metadata": {},
   "source": [
    "# Lab5-2_BA\n",
    "\n",
    "## Berent Aldikacti\n",
    "\n",
    "## 09/21/20"
   ]
  },
  {
   "cell_type": "markdown",
   "metadata": {},
   "source": [
    "## Exercise"
   ]
  },
  {
   "cell_type": "code",
   "execution_count": 4,
   "metadata": {},
   "outputs": [
    {
     "name": "stdout",
     "output_type": "stream",
     "text": [
      "('AB', 'Amphispiza', 'bilineata', 'Bird')\n",
      "('AH', 'Ammospermophilus', 'harrisi', 'Rodent')\n",
      "('AS', 'Ammodramus', 'savannarum', 'Bird')\n",
      "('BA', 'Baiomys', 'taylori', 'Rodent')\n",
      "('CB', 'Campylorhynchus', 'brunneicapillus', 'Bird')\n",
      "('CM', 'Calamospiza', 'melanocorys', 'Bird')\n",
      "('CQ', 'Callipepla', 'squamata', 'Bird')\n",
      "('CS', 'Crotalus', 'scutalatus', 'Reptile')\n",
      "('CT', 'Cnemidophorus', 'tigris', 'Reptile')\n",
      "('CU', 'Cnemidophorus', 'uniparens', 'Reptile')\n",
      "('CV', 'Crotalus', 'viridis', 'Reptile')\n",
      "('DM', 'Dipodomys', 'merriami', 'Rodent')\n",
      "('DO', 'Dipodomys', 'ordii', 'Rodent')\n",
      "('DS', 'Dipodomys', 'spectabilis', 'Rodent')\n",
      "('DX', 'Dipodomys', 'sp.', 'Rodent')\n",
      "('EO', 'Eumeces', 'obsoletus', 'Reptile')\n",
      "('GS', 'Gambelia', 'silus', 'Reptile')\n",
      "('NL', 'Neotoma', 'albigula', 'Rodent')\n",
      "('NX', 'Neotoma', 'sp.', 'Rodent')\n",
      "('OL', 'Onychomys', 'leucogaster', 'Rodent')\n",
      "('OT', 'Onychomys', 'torridus', 'Rodent')\n",
      "('OX', 'Onychomys', 'sp.', 'Rodent')\n",
      "('PB', 'Chaetodipus', 'baileyi', 'Rodent')\n",
      "('PC', 'Pipilo', 'chlorurus', 'Bird')\n",
      "('PE', 'Peromyscus', 'eremicus', 'Rodent')\n",
      "('PF', 'Perognathus', 'flavus', 'Rodent')\n",
      "('PG', 'Pooecetes', 'gramineus', 'Bird')\n",
      "('PH', 'Perognathus', 'hispidus', 'Rodent')\n",
      "('PI', 'Chaetodipus', 'intermedius', 'Rodent')\n",
      "('PL', 'Peromyscus', 'leucopus', 'Rodent')\n",
      "('PM', 'Peromyscus', 'maniculatus', 'Rodent')\n",
      "('PP', 'Chaetodipus', 'penicillatus', 'Rodent')\n",
      "('PU', 'Pipilo', 'fuscus', 'Bird')\n",
      "('PX', 'Chaetodipus', 'sp.', 'Rodent')\n",
      "('RF', 'Reithrodontomys', 'fulvescens', 'Rodent')\n",
      "('RM', 'Reithrodontomys', 'megalotis', 'Rodent')\n",
      "('RO', 'Reithrodontomys', 'montanus', 'Rodent')\n",
      "('RX', 'Reithrodontomys', 'sp.', 'Rodent')\n",
      "('SA', 'Sylvilagus', 'audubonii', 'Rabbit')\n",
      "('SB', 'Spizella', 'breweri', 'Bird')\n",
      "('SC', 'Sceloporus', 'clarki', 'Reptile')\n",
      "('SF', 'Sigmodon', 'fulviventer', 'Rodent')\n",
      "('SH', 'Sigmodon', 'hispidus', 'Rodent')\n",
      "('SO', 'Sigmodon', 'ochrognathus', 'Rodent')\n",
      "('SS', 'Spermophilus', 'spilosoma', 'Rodent')\n",
      "('ST', 'Spermophilus', 'tereticaudus', 'Rodent')\n",
      "('SU', 'Sceloporus', 'undulatus', 'Reptile')\n",
      "('SX', 'Sigmodon', 'sp.', 'Rodent')\n",
      "('UL', 'Lizard', 'sp.', 'Reptile')\n",
      "('UP', 'Pipilo', 'sp.', 'Bird')\n",
      "('UR', 'Rodent', 'sp.', 'Rodent')\n",
      "('US', 'Sparrow', 'sp.', 'Bird')\n",
      "('ZL', 'Zonotrichia', 'leucophrys', 'Bird')\n",
      "('ZM', 'Zenaida', 'macroura', 'Bird')\n"
     ]
    }
   ],
   "source": [
    "import sqlite3\n",
    "\n",
    "# Create a SQL connection to our SQLite database\n",
    "con = sqlite3.connect(\"data/portal_mammals.sqlite\")\n",
    "\n",
    "cur = con.cursor()\n",
    "\n",
    "# The result of a \"cursor.execute\" can be iterated over by row\n",
    "for row in cur.execute('SELECT * FROM species;'):\n",
    "    print(row)\n",
    "\n",
    "# Be sure to close the connection\n",
    "con.close()\n"
   ]
  },
  {
   "cell_type": "code",
   "execution_count": 11,
   "metadata": {},
   "outputs": [
    {
     "data": {
      "text/plain": [
       "[(2,), (4,), (8,), (11,), (12,), (14,), (17,), (22,)]"
      ]
     },
     "execution_count": 11,
     "metadata": {},
     "output_type": "execute_result"
    }
   ],
   "source": [
    "import sqlite3\n",
    "\n",
    "# Create a SQL connection to our SQLite database\n",
    "con = sqlite3.connect(\"data/portal_mammals.sqlite\")\n",
    "\n",
    "cur = con.cursor()\n",
    "\n",
    "# Return all results of query\n",
    "cur.execute('SELECT plot_id FROM plots WHERE plot_type=\"Control\"')\n",
    "cur.fetchall()"
   ]
  },
  {
   "cell_type": "code",
   "execution_count": 12,
   "metadata": {},
   "outputs": [
    {
     "data": {
      "text/plain": [
       "('bilineata',)"
      ]
     },
     "execution_count": 12,
     "metadata": {},
     "output_type": "execute_result"
    }
   ],
   "source": [
    "# Return first result of query\n",
    "cur.execute('SELECT species FROM species WHERE taxa=\"Bird\"')\n",
    "cur.fetchone()"
   ]
  },
  {
   "cell_type": "code",
   "execution_count": 13,
   "metadata": {},
   "outputs": [],
   "source": [
    "# Be sure to close the connection\n",
    "con.close()"
   ]
  },
  {
   "cell_type": "code",
   "execution_count": 14,
   "metadata": {},
   "outputs": [
    {
     "name": "stdout",
     "output_type": "stream",
     "text": [
      "   record_id  month  day  year  plot_id species_id sex  hindfoot_length  \\\n",
      "0          1      7   16  1977        2         NL   M             32.0   \n",
      "1          2      7   16  1977        3         NL   M             33.0   \n",
      "2          3      7   16  1977        2         DM   F             37.0   \n",
      "3          4      7   16  1977        7         DM   M             36.0   \n",
      "4          5      7   16  1977        3         DM   M             35.0   \n",
      "\n",
      "   weight  \n",
      "0     NaN  \n",
      "1     NaN  \n",
      "2     NaN  \n",
      "3     NaN  \n",
      "4     NaN  \n"
     ]
    }
   ],
   "source": [
    "import pandas as pd\n",
    "import sqlite3\n",
    "\n",
    "# Read sqlite query results into a pandas DataFrame\n",
    "con = sqlite3.connect(\"data/portal_mammals.sqlite\")\n",
    "df = pd.read_sql_query(\"SELECT * from surveys\", con)\n",
    "\n",
    "# Verify that result of SQL query is stored in the dataframe\n",
    "print(df.head())\n",
    "\n",
    "con.close()\n"
   ]
  },
  {
   "cell_type": "markdown",
   "metadata": {},
   "source": [
    "### Challenge - SQL\n",
    "\n",
    "1. Create a query that contains survey data collected between 1998 - 2001 for observations of sex “male” or “female” that includes observation’s genus and species and site type for the sample. How many records are returned?"
   ]
  },
  {
   "cell_type": "code",
   "execution_count": 15,
   "metadata": {},
   "outputs": [
    {
     "name": "stdout",
     "output_type": "stream",
     "text": [
      "   record_id  month  day  year  plot_id species_id sex  hindfoot_length  \\\n",
      "0          1      7   16  1977        2         NL   M             32.0   \n",
      "1          2      7   16  1977        3         NL   M             33.0   \n",
      "2          3      7   16  1977        2         DM   F             37.0   \n",
      "3          4      7   16  1977        7         DM   M             36.0   \n",
      "4          5      7   16  1977        3         DM   M             35.0   \n",
      "\n",
      "   weight  \n",
      "0     NaN  \n",
      "1     NaN  \n",
      "2     NaN  \n",
      "3     NaN  \n",
      "4     NaN  \n"
     ]
    }
   ],
   "source": [
    "import pandas as pd\n",
    "import sqlite3\n",
    "\n",
    "# Read sqlite query results into a pandas DataFrame\n",
    "con = sqlite3.connect(\"data/portal_mammals.sqlite\")\n",
    "df = pd.read_sql_query(\"SELECT * from surveys\", con)\n",
    "print(df.head())\n",
    "con.close()"
   ]
  },
  {
   "cell_type": "code",
   "execution_count": 45,
   "metadata": {},
   "outputs": [
    {
     "name": "stdout",
     "output_type": "stream",
     "text": [
      "        sex  year  plot_id species_id  record_id  weight\n",
      "27413     F  1998       12         DM      27414    41.0\n",
      "27414     M  1998       12         DM      27415    43.0\n",
      "27415     F  1998       12         DM      27416    41.0\n",
      "27416     F  1998       20         PM      27417    21.0\n",
      "27417     M  1998       19         OT      27418    18.0\n",
      "...     ...   ...      ...        ...        ...     ...\n",
      "33315  None  2001       11       None      33316     NaN\n",
      "33316  None  2001       13       None      33317     NaN\n",
      "33317  None  2001       14       None      33318     NaN\n",
      "33318  None  2001       15       None      33319     NaN\n",
      "33319  None  2001       16       None      33320     NaN\n",
      "\n",
      "[5907 rows x 6 columns]\n"
     ]
    }
   ],
   "source": [
    "df2 = df[(df.year >= 1998) & (df.year <= 2001)]\n",
    "df2 = df2[['sex','year','plot_id','species_id','record_id','weight']]\n",
    "print(df2)"
   ]
  },
  {
   "cell_type": "markdown",
   "metadata": {},
   "source": [
    "2. Create a dataframe that contains the total number of observations (count) made for all years, and sum of observation weights for each site, ordered by site ID.\n"
   ]
  },
  {
   "cell_type": "code",
   "execution_count": 48,
   "metadata": {},
   "outputs": [
    {
     "name": "stdout",
     "output_type": "stream",
     "text": [
      "   year  record_count\n",
      "0  1998          1610\n",
      "1  1999          1135\n",
      "2  2000          1552\n",
      "3  2001          1610\n",
      "    plot_id  weight_sum\n",
      "0         1     11794.0\n",
      "1         2     19149.0\n",
      "2         3      9494.0\n",
      "3         4     10509.0\n",
      "4         5      1966.0\n",
      "5         6      7075.0\n",
      "6         7      1244.0\n",
      "7         8     10535.0\n",
      "8         9     10854.0\n",
      "9        10       312.0\n",
      "10       11      9043.0\n",
      "11       12     17577.0\n",
      "12       13      6995.0\n",
      "13       14      9768.0\n",
      "14       15      3661.0\n",
      "15       16      1545.0\n",
      "16       17     14438.0\n",
      "17       18      5541.0\n",
      "18       19      6704.0\n",
      "19       20      6969.0\n",
      "20       21      7999.0\n",
      "21       22      9535.0\n",
      "22       23       530.0\n",
      "23       24      3962.0\n"
     ]
    }
   ],
   "source": [
    "df_yearcount = df2.groupby(['year'])['record_id'].count().reset_index(name='record_count')\n",
    "print(df_yearcount)\n",
    "df_plotsum = df2.groupby(['plot_id'])['weight'].sum().reset_index(name='weight_sum')\n",
    "print(df_plotsum)"
   ]
  },
  {
   "cell_type": "markdown",
   "metadata": {},
   "source": [
    "### Challenge - Saving your work\n",
    "\n",
    "1. For each of the challenges in the previous challenge block, modify your code to save the results to their own tables in the portal database.\n"
   ]
  },
  {
   "cell_type": "code",
   "execution_count": 52,
   "metadata": {},
   "outputs": [],
   "source": [
    "con = sqlite3.connect(\"data/portal_mammals.sqlite\")\n",
    "df2.to_sql(\"surveys19982001\", con, if_exists=\"replace\")\n",
    "df_yearcount.to_sql(\"surveys-yearcount\", con, if_exists=\"replace\")\n",
    "df_plotsum.to_sql(\"surveys-weightsum\", con, if_exists=\"replace\")\n",
    "con.close()"
   ]
  }
 ],
 "metadata": {
  "kernelspec": {
   "display_name": "Python 3",
   "language": "python",
   "name": "python3"
  },
  "language_info": {
   "codemirror_mode": {
    "name": "ipython",
    "version": 3
   },
   "file_extension": ".py",
   "mimetype": "text/x-python",
   "name": "python",
   "nbconvert_exporter": "python",
   "pygments_lexer": "ipython3",
   "version": "3.7.7"
  }
 },
 "nbformat": 4,
 "nbformat_minor": 4
}
